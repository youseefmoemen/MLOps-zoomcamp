{
 "cells": [
  {
   "cell_type": "code",
   "execution_count": 1,
   "id": "41062d8a",
   "metadata": {},
   "outputs": [],
   "source": [
    "import pandas as pd\n",
    "import mlflow\n",
    "import uuid"
   ]
  },
  {
   "cell_type": "code",
   "execution_count": 2,
   "id": "4add538c",
   "metadata": {},
   "outputs": [
    {
     "name": "stderr",
     "output_type": "stream",
     "text": [
      "2025/07/21 06:13:20 INFO mlflow.store.db.utils: Creating initial MLflow database tables...\n",
      "2025/07/21 06:13:20 INFO mlflow.store.db.utils: Updating database tables\n",
      "INFO  [alembic.runtime.migration] Context impl SQLiteImpl.\n",
      "INFO  [alembic.runtime.migration] Will assume non-transactional DDL.\n",
      "INFO  [alembic.runtime.migration] Context impl SQLiteImpl.\n",
      "INFO  [alembic.runtime.migration] Will assume non-transactional DDL.\n"
     ]
    },
    {
     "data": {
      "text/plain": [
       "<Experiment: artifact_location='/home/youseef/MLOps-zoomcamp/02-experimental-tracking/mlruns/4', creation_time=1752706239795, experiment_id='4', last_update_time=1752706239795, lifecycle_stage='active', name='nyc-experiment', tags={}>"
      ]
     },
     "execution_count": 2,
     "metadata": {},
     "output_type": "execute_result"
    }
   ],
   "source": [
    "MLFLOW_TACKING_URI = \"sqlite:////home/youseef/mlflow.db\"\n",
    "mlflow.set_tracking_uri(MLFLOW_TACKING_URI)\n",
    "mlflow.set_experiment('nyc-experiment')"
   ]
  },
  {
   "cell_type": "code",
   "execution_count": 3,
   "id": "2f9a7c21",
   "metadata": {},
   "outputs": [],
   "source": [
    "MODEL_ID = \"models:/taxi-best/19\"\n",
    "input_path = '/home/youseef/MLOps-zoomcamp/data/green_tripdata_2021-01.parquet'\n",
    "output_path = 'output/green_tripdata_2021-01_predictions.parquet'"
   ]
  },
  {
   "cell_type": "code",
   "execution_count": 4,
   "id": "f9e6479e",
   "metadata": {},
   "outputs": [],
   "source": [
    "def read_dataframe(filename):\n",
    "    if filename.endswith('.csv'):\n",
    "        df = pd.read_csv(filename)\n",
    "\n",
    "        df.lpep_dropoff_datetime = pd.to_datetime(df.lpep_dropoff_datetime)\n",
    "        df.lpep_pickup_datetime = pd.to_datetime(df.lpep_pickup_datetime)\n",
    "    elif filename.endswith('.parquet'):\n",
    "        df = pd.read_parquet(filename)\n",
    "\n",
    "    df['duration'] = df.lpep_dropoff_datetime - df.lpep_pickup_datetime\n",
    "    df.duration = df.duration.apply(lambda td: td.total_seconds() / 60)\n",
    "\n",
    "    df = df[(df.duration >= 1) & (df.duration <= 60)]\n",
    "    df['ride_id'] = generate_ids(len(df))\n",
    "    \n",
    "    return df\n",
    "\n",
    "def prepare_dict(df: pd.DataFrame):\n",
    "    categorical = ['PULocationID', 'DOLocationID']\n",
    "    numerical = ['trip_distance']\n",
    "    df[categorical] = df[categorical].astype(str)\n",
    "    df['PU_DO'] = df['PULocationID'] + '_' + df['DOLocationID']\n",
    "    dicts = df[categorical + numerical].to_dict(orient='records')\n",
    "    return dicts\n",
    "\n",
    "def generate_ids(N):\n",
    "    ride_ids = []\n",
    "    for _ in range(N):\n",
    "        ride_ids.append(str(uuid.uuid4()))\n",
    "    return ride_ids"
   ]
  },
  {
   "cell_type": "code",
   "execution_count": 5,
   "id": "563b1ec9",
   "metadata": {},
   "outputs": [],
   "source": [
    "def load_model(model_id = MODEL_ID):\n",
    "    return mlflow.pyfunc.load_model(model_id)\n",
    "\n",
    "\n",
    "def apply_model(input_file, output_file, model_id=MODEL_ID):\n",
    "    df = read_dataframe(input_file)\n",
    "    dicts = prepare_dict(df)\n",
    "    model = load_model(model_id)\n",
    "    y_pred = model.predict(dicts)\n",
    "    df_result = pd.DataFrame()\n",
    "    df_result['ride_id'] = df['ride_id']\n",
    "    df_result['lpep_pickup_datetime'] = df['lpep_pickup_datetime']\n",
    "    df_result['PULocationID'] = df['PULocationID']\n",
    "    df_result['DOLocationID'] = df['DOLocationID']\n",
    "    df_result['predicted_duration'] = y_pred\n",
    "    df_result['actual_duration'] = df['duration']\n",
    "    df_result['diff'] = df_result['actual_duration'] - df_result['predicted_duration'] \n",
    "    df_result['model_version'] = MODEL_ID\n",
    "    df_result.to_parquet(output_file, index=False)\n",
    "    print('Saved')"
   ]
  },
  {
   "cell_type": "code",
   "execution_count": 6,
   "id": "68f3230d",
   "metadata": {},
   "outputs": [
    {
     "name": "stderr",
     "output_type": "stream",
     "text": [
      "2025/07/21 06:13:21 INFO mlflow.store.db.utils: Creating initial MLflow database tables...\n",
      "2025/07/21 06:13:21 INFO mlflow.store.db.utils: Updating database tables\n",
      "INFO  [alembic.runtime.migration] Context impl SQLiteImpl.\n",
      "INFO  [alembic.runtime.migration] Will assume non-transactional DDL.\n"
     ]
    },
    {
     "name": "stdout",
     "output_type": "stream",
     "text": [
      "Saved\n"
     ]
    }
   ],
   "source": [
    "apply_model(input_path, output_path, MODEL_ID)"
   ]
  },
  {
   "cell_type": "code",
   "execution_count": null,
   "id": "57cfe765",
   "metadata": {},
   "outputs": [],
   "source": []
  }
 ],
 "metadata": {
  "kernelspec": {
   "display_name": "attention",
   "language": "python",
   "name": "python3"
  },
  "language_info": {
   "codemirror_mode": {
    "name": "ipython",
    "version": 3
   },
   "file_extension": ".py",
   "mimetype": "text/x-python",
   "name": "python",
   "nbconvert_exporter": "python",
   "pygments_lexer": "ipython3",
   "version": "3.10.16"
  }
 },
 "nbformat": 4,
 "nbformat_minor": 5
}
